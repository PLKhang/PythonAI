{
 "cells": [
  {
   "cell_type": "code",
   "execution_count": 3,
   "metadata": {},
   "outputs": [],
   "source": [
    "import numpy as np\n",
    "import tensorflow as tf\n",
    "from tensorflow.keras.datasets import mnist\n",
    "from tensorflow.keras.models import Sequential\n",
    "from tensorflow.keras.layers import Flatten, Dense, InputLayer\n",
    "from tensorflow.keras.utils import to_categorical\n",
    "from tensorflow.keras.models import load_model\n",
    "from matplotlib import pyplot as plt\n",
    "\n",
    "# Tải dữ liệu MNIST và chia thành tập huấn luyện và tập kiểm tra\n",
    "(train_images, train_labels), (test_images, test_labels) = mnist.load_data()\n",
    "\n",
    "# Chuẩn hóa dữ liệu và chuyển đổi nhãn thành one-hot encoding\n",
    "train_images = train_images.astype('float32') / 255\n",
    "test_images = test_images.astype('float32') / 255\n",
    "\n",
    "train_labels = to_categorical(train_labels)\n",
    "test_labels = to_categorical(test_labels)"
   ]
  },
  {
   "cell_type": "markdown",
   "metadata": {},
   "source": [
    "Ta xem hành động đoán số như một trò chơi:\n",
    "- khi đoán trúng ta sẽ nhận được phần thưởng và khi đoán sai sẽ bị phạt\n",
    "- Mục tiêu: tối đa hóa tổng phần thưởng\n",
    "Deep q learning:\n",
    "- Ta có 28*28 ô và mỗi ô sẽ có (0-255) giá trị do vậy có tất cả (28*28)^255 trạng thái \n",
    "=> do vậy mà ta không thể sử dụng bảng q tabel mà cần phải có một mạng neural network đóng vai trò như một bảng q\n",
    "- Trong quá trình dự đoán ta sẽ liên tục cập nhật các trọng số sao cho tối ưu hóa phần thưởng\n",
    "- Hàm mất mát: Loss = (yi − Q (s, a; θi))^2 trong đó yi = r + γ*max Q(s',a';θi−1)\n",
    "- Vì hành động đoán số là các hành động rời rạc không dẫn tới hành động tiếp theo nên\n",
    "+ yi = r"
   ]
  },
  {
   "cell_type": "markdown",
   "metadata": {},
   "source": [
    "MÔ HÌNH"
   ]
  },
  {
   "cell_type": "code",
   "execution_count": 1,
   "metadata": {},
   "outputs": [],
   "source": [
    "from scipy import sparse\n",
    "import random\n",
    "class agent:\n",
    "    def __init__(self,train_images,train_labels):\n",
    "        self.train_images = train_images\n",
    "        self.train_labels = train_labels\n",
    "        self.numOfAction = 10\n",
    "        self.size_batch = 60000\n",
    "        self.epsilon = 0.05\n",
    "        self.apha = 1 # CÁC GIÁ TRỊ THỬ 0 0.1 0.2 0.5 0.7 1\n",
    "    def neural_network(self):\n",
    "        model = Sequential()\n",
    "        model.add(Flatten(input_shape=(28, 28))) \n",
    "        model.add(Dense(128, activation='relu'))\n",
    "        model.add(Dense(10))\n",
    "        model.compile(optimizer='adam',loss='mse',metrics=['accuracy'])\n",
    "        return model\n",
    "    def predict(self,image):\n",
    "        if self.model ==None:\n",
    "            self.model = load_model(\"train.keras\")\n",
    "        action = np.argmax(self.model.predict(image.reshape(1,28,28),verbose = 0))\n",
    "        return action\n",
    "    def get_reward(self,action,index):\n",
    "        #dùng index thay cho state để lấy trạng thái\n",
    "        predict_number = action\n",
    "        reward = -1\n",
    "        if predict_number == np.argmax(self.train_labels[index]):\n",
    "            reward = 1\n",
    "        return reward\n",
    "    def train(self):\n",
    "        accuracy = []\n",
    "        self.model = self.neural_network()\n",
    "        for i in range(20):\n",
    "            States = np.zeros((self.size_batch,784))\n",
    "            for index in range(self.size_batch):\n",
    "                States[index]= self.train_images[index].reshape(1,784)\n",
    "            qTable = self.model.predict(States.reshape(self.size_batch,28,28),verbose = 0)\n",
    "            for index in range(self.size_batch):\n",
    "                if random.uniform(0, 1) < self.epsilon:\n",
    "                    action = np.random.randint(0,10)\n",
    "                else:\n",
    "                    action = np.argmax(qTable[index])\n",
    "                reward = self.get_reward(action,index)\n",
    "                # if reward ==-1:\n",
    "                #     qTable[index,action] = (1-self.apha)*qTable[index,action]+reward*self.apha\n",
    "                # else: qTable[index,action] = reward\n",
    "                qTable[index,action] = reward\n",
    "            States = States.reshape(self.size_batch,28,28)\n",
    "            history = self.model.fit(States,qTable,epochs = 1,batch_size = 1000,verbose = 0)\n",
    "            accuracy.append(history)\n",
    "        self.model.save(\"train.keras\")\n",
    "        return accuracy\n",
    "                "
   ]
  },
  {
   "cell_type": "markdown",
   "metadata": {},
   "source": [
    "BIỂU ĐỒ CỦA ĐỘ CHÍNH XÁC VỚI APHA = 1"
   ]
  },
  {
   "cell_type": "code",
   "execution_count": 4,
   "metadata": {},
   "outputs": [
    {
     "data": {
      "image/png": "[encoded data removed]",
      "text/plain": [
       "<Figure size 640x480 with 1 Axes>"
      ]
     },
     "metadata": {},
     "output_type": "display_data"
    }
   ],
   "source": [
    "ag = agent(train_images,train_labels)\n",
    "history = ag.train()\n",
    "l = []\n",
    "for i in range(20):\n",
    "    l.append(history[i].history['accuracy'])\n",
    "plt.plot(l)\n",
    "plt.show()"
   ]
  },
  {
   "cell_type": "markdown",
   "metadata": {},
   "source": [
    "THỬ TRÊN BỘ TEST"
   ]
  },
  {
   "cell_type": "code",
   "execution_count": 6,
   "metadata": {},
   "outputs": [
    {
     "name": "stdout",
     "output_type": "stream",
     "text": [
      "313/313 [==============================] - 1s 1ms/step\n",
      "9697\n"
     ]
    }
   ],
   "source": [
    "model = load_model(\"train.keras\")\n",
    "pre = model.predict(test_images)\n",
    "count = 0\n",
    "for i in range(10000):\n",
    "    num = np.argmax(pre[i])\n",
    "    if num==np.argmax(test_labels[i]): count+=1\n",
    "print(count)"
   ]
  }
 ],
 "metadata": {
  "kernelspec": {
   "display_name": "Python 3",
   "language": "python",
   "name": "python3"
  },
  "language_info": {
   "codemirror_mode": {
    "name": "ipython",
    "version": 3
   },
   "file_extension": ".py",
   "mimetype": "text/x-python",
   "name": "python",
   "nbconvert_exporter": "python",
   "pygments_lexer": "ipython3",
   "version": "3.11.2"
  },
  "orig_nbformat": 4
 },
 "nbformat": 4,
 "nbformat_minor": 2
}

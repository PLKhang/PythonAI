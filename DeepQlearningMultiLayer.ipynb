{
 "cells": [
  {
   "cell_type": "code",
   "execution_count": 19,
   "metadata": {},
   "outputs": [],
   "source": [
    "import numpy as np\n",
    "import tensorflow as tf\n",
    "from tensorflow.keras.datasets import mnist\n",
    "from tensorflow.keras.models import Sequential\n",
    "from tensorflow.keras.layers import Flatten, Dense, InputLayer\n",
    "from tensorflow.keras.utils import to_categorical\n",
    "from tensorflow.keras.models import load_model\n",
    "from matplotlib import pyplot as plt\n",
    "\n",
    "# Tải dữ liệu MNIST và chia thành tập huấn luyện và tập kiểm tra\n",
    "(train_images, train_labels), (test_images, test_labels) = mnist.load_data()\n",
    "\n",
    "# Chuẩn hóa dữ liệu và chuyển đổi nhãn thành one-hot encoding\n",
    "train_images = train_images.astype('float32') / 255\n",
    "test_images = test_images.astype('float32') / 255\n",
    "\n",
    "train_labels = to_categorical(train_labels)\n",
    "test_labels = to_categorical(test_labels)"
   ]
  },
  {
   "cell_type": "markdown",
   "metadata": {},
   "source": [
    "MÔ HÌNH VỚI apha = 1"
   ]
  },
  {
   "cell_type": "code",
   "execution_count": 22,
   "metadata": {},
   "outputs": [],
   "source": [
    "from scipy import sparse\n",
    "import random\n",
    "class agent:\n",
    "    def __init__(self,train_images,train_labels):\n",
    "        self.train_images = train_images\n",
    "        self.train_labels = train_labels\n",
    "        self.numOfAction = 10\n",
    "        self.size_batch = 60000\n",
    "        self.epsilon = 0.05\n",
    "        self.apha = 1 # CÁC GIÁ TRỊ THỬ 0 0.1 0.2 0.5 0.7 1\n",
    "    def neural_network(self):\n",
    "        model = Sequential()\n",
    "        model.add(Flatten(input_shape=(28, 28))) \n",
    "        model.add(Dense(128, activation='relu'))\n",
    "        model.add(Dense(10))\n",
    "        model.compile(optimizer='adam',loss='mse',metrics=['accuracy'])\n",
    "        return model\n",
    "    def predict(self,image):\n",
    "        if self.model ==None:\n",
    "            self.model = load_model(\"train.keras\")\n",
    "        action = np.argmax(self.model.predict(image.reshape(1,28,28),verbose = 0))\n",
    "        return action\n",
    "    def get_reward(self,action,index):\n",
    "        #dùng index thay cho state để lấy trạng thái\n",
    "        predict_number = action\n",
    "        reward = -1\n",
    "        if predict_number == np.argmax(self.train_labels[index]):\n",
    "            reward = 1\n",
    "        return reward\n",
    "    def train(self):\n",
    "        accuracy = []\n",
    "        self.model = self.neural_network()\n",
    "        for i in range(20):\n",
    "            States = np.zeros((self.size_batch,784))\n",
    "            for index in range(self.size_batch):\n",
    "                States[index]= self.train_images[index].reshape(1,784)\n",
    "            qTable = self.model.predict(States.reshape(self.size_batch,28,28),verbose = 0)\n",
    "            for index in range(self.size_batch):\n",
    "                if random.uniform(0, 1) < self.epsilon:\n",
    "                    action = np.random.randint(0,10)\n",
    "                else:\n",
    "                    action = np.argmax(qTable[index])\n",
    "                reward = self.get_reward(action,index)\n",
    "                if reward ==-1:\n",
    "                    qTable[index,action] = (1-self.apha)*qTable[index,action]+reward*self.apha\n",
    "                else: qTable[index,action] = reward\n",
    "            States = States.reshape(self.size_batch,28,28)\n",
    "            history = self.model.fit(States,qTable,epochs = 1,batch_size = 1000,verbose = 0)\n",
    "            accuracy.append(history)\n",
    "        self.model.save(\"train.keras\")\n",
    "        return accuracy\n",
    "                "
   ]
  },
  {
   "cell_type": "markdown",
   "metadata": {},
   "source": [
    "BIỂU ĐỒ CỦA ĐỘ CHÍNH XÁC VỚI APHA = 1"
   ]
  },
  {
   "cell_type": "code",
   "execution_count": 23,
   "metadata": {},
   "outputs": [
    {
     "data": {
      "text/plain": [
       "[<matplotlib.lines.Line2D at 0x27595667fd0>]"
      ]
     },
     "execution_count": 23,
     "metadata": {},
     "output_type": "execute_result"
    },
    {
     "data": {
      "image/png": "[encoded data removed]",
      "text/plain": [
       "<Figure size 640x480 with 1 Axes>"
      ]
     },
     "metadata": {},
     "output_type": "display_data"
    }
   ],
   "source": [
    "ag = agent(train_images,train_labels)\n",
    "history = ag.train()\n",
    "l = []\n",
    "for i in range(20):\n",
    "    l.append(history[i].history['accuracy'])\n",
    "plt.plot(l)\n",
    "plt.show()"
   ]
  },
  {
   "cell_type": "markdown",
   "metadata": {},
   "source": [
    "MÔ HÌNH VỚI apha = 0.2"
   ]
  },
  {
   "cell_type": "code",
   "execution_count": 26,
   "metadata": {},
   "outputs": [],
   "source": [
    "from scipy import sparse\n",
    "import random\n",
    "class agent:\n",
    "    def __init__(self,train_images,train_labels):\n",
    "        self.train_images = train_images\n",
    "        self.train_labels = train_labels\n",
    "        self.numOfAction = 10\n",
    "        self.size_batch = 60000\n",
    "        self.epsilon = 0.05\n",
    "        self.apha = 0.2 #0 0.1 0.2 0.5 0.7 1\n",
    "    def neural_network(self):\n",
    "        model = Sequential()\n",
    "        model.add(Flatten(input_shape=(28, 28))) \n",
    "        model.add(Dense(128, activation='relu'))\n",
    "        model.add(Dense(10))\n",
    "        model.compile(optimizer='adam',loss='mse',metrics=['accuracy'])\n",
    "        return model\n",
    "    def predict(self,image):\n",
    "        if self.model ==None:\n",
    "            self.model = load_model(\"train.keras\")\n",
    "        action = np.argmax(self.model.predict(image.reshape(1,28,28),verbose = 0))\n",
    "        return action\n",
    "    def get_reward(self,action,index):\n",
    "        #dùng index thay cho state để lấy trạng thái\n",
    "        predict_number = action\n",
    "        reward = -1\n",
    "        if predict_number == np.argmax(self.train_labels[index]):\n",
    "            reward = 1\n",
    "        return reward\n",
    "    def train(self):\n",
    "        self.model = self.neural_network()\n",
    "        accuracy = []\n",
    "        for i in range(20):\n",
    "            States = np.zeros((self.size_batch,784))\n",
    "            for index in range(self.size_batch):\n",
    "                States[index]= self.train_images[index].reshape(1,784)\n",
    "            qTable = self.model.predict(States.reshape(self.size_batch,28,28),verbose = 0)\n",
    "            for index in range(self.size_batch):\n",
    "                if random.uniform(0, 1) < self.epsilon:\n",
    "                    action = np.random.randint(0,10)\n",
    "                else:\n",
    "                    action = np.argmax(qTable[index])\n",
    "                reward = self.get_reward(action,index)\n",
    "                if reward ==-1:\n",
    "                    qTable[index,action] = (1-self.apha)*qTable[index,action]+reward*self.apha\n",
    "                else: qTable[index,action] = reward\n",
    "            States = States.reshape(self.size_batch,28,28)\n",
    "            history = self.model.fit(States,qTable,epochs = 1,batch_size = 1000,verbose = 0)\n",
    "            accuracy.append(history)\n",
    "        self.model.save(\"train.keras\")\n",
    "        return accuracy\n",
    "                "
   ]
  },
  {
   "cell_type": "markdown",
   "metadata": {},
   "source": [
    "BIỂU ĐỘ CỦA ĐỘ CHÍNH XÁC VỚI apha =0.2"
   ]
  },
  {
   "cell_type": "code",
   "execution_count": 27,
   "metadata": {},
   "outputs": [
    {
     "data": {
      "image/png": "[encoded data removed]",
      "text/plain": [
       "<Figure size 640x480 with 1 Axes>"
      ]
     },
     "metadata": {},
     "output_type": "display_data"
    }
   ],
   "source": [
    "ag = agent(train_images,train_labels)\n",
    "history = ag.train()\n",
    "l = []\n",
    "for i in range(20):\n",
    "    l.append(history[i].history['accuracy'])\n",
    "plt.plot(l)\n",
    "plt.show()"
   ]
  },
  {
   "cell_type": "markdown",
   "metadata": {},
   "source": [
    "THỬ TRÊN BỘ TEST"
   ]
  },
  {
   "cell_type": "code",
   "execution_count": 28,
   "metadata": {},
   "outputs": [
    {
     "name": "stdout",
     "output_type": "stream",
     "text": [
      "313/313 [==============================] - 1s 2ms/step\n",
      "9565\n"
     ]
    }
   ],
   "source": [
    "model = load_model(\"train.keras\")\n",
    "pre = model.predict(test_images)\n",
    "count = 0\n",
    "for i in range(10000):\n",
    "    num = np.argmax(pre[i])\n",
    "    if num==np.argmax(test_labels[i]): count+=1\n",
    "print(count)"
   ]
  }
 ],
 "metadata": {
  "kernelspec": {
   "display_name": "Python 3",
   "language": "python",
   "name": "python3"
  },
  "language_info": {
   "codemirror_mode": {
    "name": "ipython",
    "version": 3
   },
   "file_extension": ".py",
   "mimetype": "text/x-python",
   "name": "python",
   "nbconvert_exporter": "python",
   "pygments_lexer": "ipython3",
   "version": "3.11.2"
  },
  "orig_nbformat": 4
 },
 "nbformat": 4,
 "nbformat_minor": 2
}

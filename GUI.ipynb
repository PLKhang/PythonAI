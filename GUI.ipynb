{
 "cells": [
  {
   "cell_type": "code",
   "execution_count": 267,
   "metadata": {},
   "outputs": [],
   "source": [
    "import tkinter as tk\n",
    "from tkinter import filedialog as fd\n",
    "import cv2 as cv\n",
    "import numpy as np\n",
    "from PIL import Image, ImageTk\n",
    "import numpy as np\n",
    "from tensorflow.keras.models import load_model\n",
    "from tensorflow.keras.datasets import mnist\n",
    "from tensorflow.keras.utils import to_categorical\n",
    "from tensorflow.keras.models import Sequential\n",
    "from tensorflow.keras.layers import Flatten, Dense, InputLayer"
   ]
  },
  {
   "cell_type": "markdown",
   "metadata": {},
   "source": [
    "CHUẨN BỊ DỮ LIỆU"
   ]
  },
  {
   "cell_type": "code",
   "execution_count": 268,
   "metadata": {},
   "outputs": [],
   "source": [
    "# Tải dữ liệu MNIST và chia thành tập huấn luyện và tập kiểm tra\n",
    "(train_images, train_labels), (test_images, test_labels) = mnist.load_data()\n",
    "\n",
    "# Chuẩn hóa dữ liệu và chuyển đổi nhãn thành one-hot encoding\n",
    "train_images = train_images.astype('float32') / 255\n",
    "test_images = test_images.astype('float32') / 255\n",
    "\n",
    "train_labels = to_categorical(train_labels)\n",
    "test_labels = to_categorical(test_labels)"
   ]
  },
  {
   "cell_type": "code",
   "execution_count": 269,
   "metadata": {},
   "outputs": [],
   "source": [
    "class Canvas():\n",
    "    \n",
    "    def __init__(self,window):\n",
    "        self.window = window\n",
    "        #CANVAS 1\n",
    "        self.canvas1 = tk.Canvas(self.window, width=600, height=500, bg='white')\n",
    "        self.canvas1.create_rectangle(2, 3, 597, 495, outline='black', width=2)\n",
    "        self.canvas1.create_line(5, 50, 595, 50, fill=\"black\", width=2)\n",
    "        self.canvas1.create_text(350,25,text=\"PHÂN LOẠI CHỮ SỐ VIẾT TAY\",font=(\"Arial\", 25))\n",
    "        self.canvas1.place(x=0,y=0)\n",
    "        #CANVAS 2 \n",
    "        self.canvas2 = tk.Canvas(self.window, width=300, height=400, bg='white')\n",
    "        self.canvas2.create_rectangle(5,3,295,395,outline='black',width=2)\n",
    "        self.canvas2.place(x=600,y=102)\n",
    "        #CANVAS 3 \n",
    "        self.canvas3 = tk.Canvas(self.window, width=300, height=100, bg='white')\n",
    "        self.canvas3.create_rectangle(5,3,295,95,outline='black',width=2)\n",
    "        self.canvas3.create_text(50,30,text=\"Predict: \",font=(\"Time New Roman\", 15))\n",
    "        self.canvas3.create_text(72,80,text=\"Ground Truth: \",font=(\"Time New Roman\", 15))\n",
    "        self.canvas3.place(x=600,y=0)\n",
    "\n",
    "    def __init__1(self):\n",
    "        self.canvas1 = tk.Canvas(self.window, width=600, height=500, bg='white')\n",
    "        self.canvas1.create_rectangle(2, 3, 597, 495, outline='black', width=2)\n",
    "        self.canvas1.create_text(350,25,text=\"PHÂN LOẠI CHỮ SỐ VIẾT TAY\",font=(\"Arial\", 25))\n",
    "        self.canvas1.place(x=0,y=0)\n",
    "        self.canvas1.create_line(5, 50, 595, 50, fill=\"black\", width=2)\n",
    "        \n",
    "        self.canvas3 = tk.Canvas(self.window, width=300, height=100, bg='white')\n",
    "        self.canvas3.create_rectangle(5,3,295,95,outline='black',width=2)\n",
    "        self.canvas3.create_text(50,30,text=\"Predict: \",font=(\"Time New Roman\", 15))\n",
    "        self.canvas3.create_text(72,80,text=\"Ground Truth: \",font=(\"Time New Roman\", 15))\n",
    "        self.canvas3.place(x=600,y=0)\n",
    "    def clear_console(self):\n",
    "        self.canvas1.delete('all')\n",
    "        self.canvas3.delete('all')\n",
    "        self.__init__1()\n",
    "        \n",
    "    def getCanvas3(self):\n",
    "        return self.canvas3\n",
    "    def getCanvas1(self):\n",
    "        return self.canvas1"
   ]
  },
  {
   "cell_type": "code",
   "execution_count": 270,
   "metadata": {},
   "outputs": [],
   "source": [
    "from matplotlib import pyplot as plt\n",
    "def choose_image(window,canvas,Labels):\n",
    "    try:\n",
    "        path = fd.askopenfilename(filetypes=[(\"Image Files\", \"*.png;*.jpg;*.jpeg\")])\n",
    "        model = load_model(\"train.keras\")\n",
    "        img = image = cv.imread(path,cv.COLOR_BGR2GRAY)\n",
    "        if image is None:\n",
    "            return\n",
    "        canvas.clear_console()\n",
    "        canvas3 =canvas.getCanvas3()\n",
    "        if \"Anh\" in path: img = cv.cvtColor(img,cv.COLOR_BGR2GRAY)\n",
    "        img = cv.resize(img,(28,28)).astype('float32') / 255\n",
    "        plt.imshow(img)\n",
    "        plt.show()\n",
    "        print(img.shape)\n",
    "        predictLabel = np.argmax(model.predict(img.reshape(1,28,28),verbose=0))\n",
    "        canvas3.create_text(150,30,text=str(predictLabel),font=(\"Time New Roman\", 15))\n",
    "        if \"Anh\" not in path: \n",
    "            index = int(path.split(\"img\")[-1].split(\".\")[0])\n",
    "            truthLabel = np.argmax(Labels[index])\n",
    "            canvas3.create_text(150,80,text=str(truthLabel),font=(\"Time New Roman\", 15))\n",
    "        img = Image.fromarray(cv.cvtColor(image,cv.COLOR_BGR2RGB))\n",
    "        img = img.resize((585, 432), Image.LANCZOS)\n",
    "        img=ImageTk.PhotoImage(img)\n",
    "        panel = tk.Label(window, image=img)\n",
    "        panel.image = img\n",
    "        panel.place(x=4,y=55)\n",
    "    except:\n",
    "        return"
   ]
  },
  {
   "cell_type": "code",
   "execution_count": 271,
   "metadata": {},
   "outputs": [],
   "source": [
    "from scipy import sparse\n",
    "import random\n",
    "class agent:\n",
    "    def __init__(self,train_images,train_labels):\n",
    "        self.train_images = train_images\n",
    "        self.train_labels = train_labels\n",
    "        self.numOfAction = 10\n",
    "        self.size_batch = 60000\n",
    "        self.epsilon = 0.05\n",
    "        self.apha = 0.1\n",
    "    def neural_network(self):\n",
    "        model = Sequential()\n",
    "        model.add(Flatten(input_shape=(28, 28))) \n",
    "        model.add(Dense(128, activation='relu'))\n",
    "        model.add(Dense(10))\n",
    "        model.compile(optimizer='adam',loss='mse',metrics=['accuracy'])\n",
    "        return model\n",
    "    def predict(self,image):\n",
    "        if self.model ==None:\n",
    "            self.model = load_model(\"train.keras\")\n",
    "        action = np.argmax(self.model.predict(image.reshape(1,28,28),verbose = 0))\n",
    "        return action\n",
    "    def get_reward(self,action,index):\n",
    "        #dùng index thay cho state để lấy trạng thái\n",
    "        predict_number = action\n",
    "        reward = -1\n",
    "        if predict_number == np.argmax(self.train_labels[index]):\n",
    "            reward = 1\n",
    "        return reward\n",
    "    def train(self):\n",
    "        self.model = self.neural_network()\n",
    "        for i in range(20):\n",
    "            States = np.zeros((self.size_batch,784))\n",
    "            for index in range(self.size_batch):\n",
    "                States[index]= self.train_images[index].reshape(1,784)\n",
    "            qTable = self.model.predict(States.reshape(self.size_batch,28,28),verbose = 0)\n",
    "            for index in range(self.size_batch):\n",
    "                if random.uniform(0, 1) < self.epsilon:\n",
    "                    action = np.random.randint(0,10)\n",
    "                else:\n",
    "                    action = np.argmax(qTable[index])\n",
    "                reward = self.get_reward(action,index)\n",
    "                if reward ==-1:\n",
    "                    qTable[index,action] = reward*(1-self.apha)+self.apha*qTable[index,action]\n",
    "                else: qTable[index,action] = reward\n",
    "            States = States.reshape(self.size_batch,28,28)\n",
    "            self.model.fit(States,qTable,epochs = 1,batch_size = 100,verbose=0)\n",
    "        self.model.save(\"train.keras\")\n",
    "                "
   ]
  },
  {
   "cell_type": "code",
   "execution_count": 272,
   "metadata": {},
   "outputs": [],
   "source": [
    "def train(canvas):\n",
    "    canvas.clear_console()\n",
    "    canvas1 = canvas.getCanvas1()\n",
    "    canvas1.create_text(250,250,text = \"Training ....\",font =(\"Time New Roman\", 20) )\n",
    "    ag = agent(train_images,train_labels)\n",
    "    ag.train()\n",
    "    canvas.clear_console()\n",
    "    canvas1 = canvas.getCanvas1()\n",
    "    canvas1.create_text(250,250,text = \"Finished\",font =(\"Time New Roman\", 20) )\n",
    "    "
   ]
  },
  {
   "cell_type": "code",
   "execution_count": 273,
   "metadata": {},
   "outputs": [],
   "source": [
    "class interface():\n",
    "    def __init__(self):\n",
    "        self.window = tk.Tk()\n",
    "        self.window.geometry(\"900x550\")\n",
    "        self.window.title(\"PHÂN LOẠI CHỮ VIẾT TAY\")\n",
    "        \n",
    "        self.canvas= Canvas(self.window)\n",
    "\n",
    "        self.button1 = tk.Button(self.window,text=\"    Training    \",command=lambda: train(self.canvas))\n",
    "        self.button1.place(x=720 ,y=300)\n",
    "\n",
    "        self.button2 = tk.Button(self.window,text=\"    Choose Image    \",command=lambda: choose_image(self.window,self.canvas,test_labels))\n",
    "        self.button2.place(x=200 ,y=510)\n",
    "\n",
    "        self.button3 = tk.Button(self.window,text=\"    Clear    \",command=lambda: self.canvas.clear_console())\n",
    "        self.button3.place(x=725 ,y=370)\n",
    "\n",
    "        self.button4 = tk.Button(self.window,text=\"    EXIT    \",command= lambda:self.close())\n",
    "        self.button4.place(x=730,y=450)\n",
    "\n",
    "        # Chạy vòng lặp chính\n",
    "        self.window.mainloop()\n",
    "    def close(self):\n",
    "        self.window.destroy()"
   ]
  },
  {
   "cell_type": "code",
   "execution_count": 274,
   "metadata": {},
   "outputs": [
    {
     "data": {
      "image/png": "[encoded data removed]",
      "text/plain": [
       "<Figure size 640x480 with 1 Axes>"
      ]
     },
     "metadata": {},
     "output_type": "display_data"
    },
    {
     "name": "stdout",
     "output_type": "stream",
     "text": [
      "(28, 28)\n"
     ]
    }
   ],
   "source": [
    "if __name__== '__main__':\n",
    "    interface()"
   ]
  }
 ],
 "metadata": {
  "kernelspec": {
   "display_name": "Python 3",
   "language": "python",
   "name": "python3"
  },
  "language_info": {
   "codemirror_mode": {
    "name": "ipython",
    "version": 3
   },
   "file_extension": ".py",
   "mimetype": "text/x-python",
   "name": "python",
   "nbconvert_exporter": "python",
   "pygments_lexer": "ipython3",
   "version": "3.11.2"
  },
  "orig_nbformat": 4
 },
 "nbformat": 4,
 "nbformat_minor": 2
}
